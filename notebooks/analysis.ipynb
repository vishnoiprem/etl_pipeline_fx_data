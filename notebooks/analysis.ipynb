{
 "cells": [
  {
   "cell_type": "code",
   "execution_count": null,
   "id": "initial_id",
   "metadata": {
    "collapsed": true,
    "is_executing": true
   },
   "outputs": [],
   "source": [
    "# analysis.ipynb\n",
    "import pandas as pd\n",
    "import  seaborn as sns\n",
    "import matplotlib.pyplot as plt\n"
   ]
  },
  {
   "cell_type": "code",
   "source": [
    "# analysis.ipynb\n",
    "import pandas as pd\n",
    "import  seaborn as sns\n",
    "import matplotlib.pyplot as plt\n",
    "\n",
    "# Load the datasets\n",
    "data_a = pd.read_csv('../data/sample_fx_data_A.csv.gz', compression='gzip')\n",
    "data_b = pd.read_csv('../data/sample_fx_data_B.csv.gz', compression='gzip')\n",
    "data_c = pd.read_csv('../data/sample_fx_data_C.csv.gz', compression='gzip')\n",
    "\n",
    "\n",
    "\n",
    "\n",
    "# Perform data analysis\n",
    "# Display the first few rows of each dataset\n",
    "print(\"Data A:\")\n",
    "print(data_a.head())\n",
    "print(\"\\nData B:\")\n",
    "print(data_b.head())\n",
    "print(\"\\nData C:\")\n",
    "print(data_c.head())\n",
    "\n",
    "# Add more analysis steps as needed to select the best data provider\n",
    "\n",
    "\n"
   ],
   "metadata": {
    "collapsed": false,
    "is_executing": true,
    "ExecuteTime": {
     "end_time": "2024-08-04T11:07:47.491490Z",
     "start_time": "2024-08-04T11:07:41.135599Z"
    }
   },
   "id": "4737d5f0829144e8",
   "outputs": [
    {
     "name": "stdout",
     "output_type": "stream",
     "text": [
      "Data A:\n",
      "              datetime      bid      ask currency_pair  volume\n",
      "0  2023-11-30 23:59:58  161.502  161.518        EURJPY    7948\n",
      "1  2023-11-30 23:59:59   97.882   97.893        AUDJPY    5809\n",
      "2  2023-12-01 00:00:00  161.502  161.515        EURJPY    1098\n",
      "3  2023-12-01 00:00:00  148.078  148.084        USDJPY     314\n",
      "4  2023-12-01 00:00:01  161.498  161.516        EURJPY    9823\n",
      "\n",
      "Data B:\n",
      "              datetime      bid      ask currency_pair  volume\n",
      "0  2023-11-30 23:59:58  161.464  161.602        EURJPY      65\n",
      "1  2023-11-30 23:59:59   99.371   97.977        AUDJPY    8562\n",
      "2  2023-12-01 00:00:00  161.464  161.599        EURJPY    8795\n",
      "3  2023-12-01 00:00:00  148.040  148.168        USDJPY    8289\n",
      "4  2023-12-01 00:00:01  162.994  161.600        EURJPY    6764\n",
      "\n",
      "Data C:\n",
      "              datetime      bid      ask currency_pair  volume\n",
      "0  2023-12-01 00:00:00  161.492  161.521        EURJPY    1098\n",
      "1  2023-12-01 00:00:00  148.068  148.090        USDJPY     314\n",
      "2  2023-12-01 00:00:01  161.488  161.522        EURJPY    9823\n",
      "3  2023-12-01 00:00:02  161.488  161.521        EURJPY    7033\n",
      "4  2023-12-01 00:00:02  148.064  148.086        USDJPY    4222\n"
     ]
    }
   ],
   "execution_count": 3
  },
  {
   "cell_type": "code",
   "outputs": [],
   "source": [],
   "metadata": {
    "collapsed": false
   },
   "id": "b4ddbfa4604bd405",
   "execution_count": null
  },
  {
   "cell_type": "code",
   "outputs": [],
   "source": "\n",
   "metadata": {
    "collapsed": false,
    "is_executing": true
   },
   "id": "1060bd62f9cd4afa",
   "execution_count": null
  },
  {
   "cell_type": "code",
   "outputs": [],
   "source": [],
   "metadata": {
    "collapsed": false
   },
   "id": "b6033aca05b31486",
   "execution_count": null
  },
  {
   "cell_type": "code",
   "source": [
    "# Check for data length\n",
    "print(\"Data A length:\", len(data_a))\n",
    "print(\"Data B length:\", len(data_b))\n",
    "print(\"Data C length:\", len(data_c))\n"
   ],
   "metadata": {
    "collapsed": false,
    "ExecuteTime": {
     "end_time": "2024-08-04T11:07:58.025205Z",
     "start_time": "2024-08-04T11:07:58.021042Z"
    }
   },
   "id": "a9a0f55214606ef2",
   "outputs": [
    {
     "name": "stdout",
     "output_type": "stream",
     "text": [
      "Data A length: 6847154\n",
      "Data B length: 6847154\n",
      "Data C length: 4689657\n"
     ]
    }
   ],
   "execution_count": 4
  },
  {
   "cell_type": "code",
   "source": [
    "\n",
    "# Display the first few rows of each dataset\n",
    "display(data_a.head())\n",
    "display(data_b.head())\n",
    "display(data_c.head())\n",
    "\n",
    "# Check for missing values\n",
    "print(\"Data A missing values:\\n\", data_a.isnull().sum())\n",
    "print(\"Data B missing values:\\n\", data_b.isnull().sum())\n",
    "print(\"Data C missing values:\\n\", data_c.isnull().sum())\n",
    "\n",
    "# Check for data length\n",
    "print(\"Data A length:\", len(data_a))\n",
    "print(\"Data B length:\", len(data_b))\n",
    "print(\"Data C length:\", len(data_c))\n",
    "\n",
    "# Check for data consistency and validity (e.g., numeric values for bid and ask)\n",
    "print(\"Data A description:\\n\", data_a.describe())\n",
    "print(\"Data B description:\\n\", data_b.describe())\n",
    "print(\"Data C description:\\n\", data_c.describe())\n",
    "\n"
   ],
   "metadata": {
    "collapsed": false,
    "ExecuteTime": {
     "end_time": "2024-08-04T11:08:06.578574Z",
     "start_time": "2024-08-04T11:08:04.892659Z"
    }
   },
   "id": "bc8d5165386b396f",
   "outputs": [
    {
     "data": {
      "text/plain": [
       "              datetime      bid      ask currency_pair  volume\n",
       "0  2023-11-30 23:59:58  161.502  161.518        EURJPY    7948\n",
       "1  2023-11-30 23:59:59   97.882   97.893        AUDJPY    5809\n",
       "2  2023-12-01 00:00:00  161.502  161.515        EURJPY    1098\n",
       "3  2023-12-01 00:00:00  148.078  148.084        USDJPY     314\n",
       "4  2023-12-01 00:00:01  161.498  161.516        EURJPY    9823"
      ],
      "text/html": [
       "<div>\n",
       "<style scoped>\n",
       "    .dataframe tbody tr th:only-of-type {\n",
       "        vertical-align: middle;\n",
       "    }\n",
       "\n",
       "    .dataframe tbody tr th {\n",
       "        vertical-align: top;\n",
       "    }\n",
       "\n",
       "    .dataframe thead th {\n",
       "        text-align: right;\n",
       "    }\n",
       "</style>\n",
       "<table border=\"1\" class=\"dataframe\">\n",
       "  <thead>\n",
       "    <tr style=\"text-align: right;\">\n",
       "      <th></th>\n",
       "      <th>datetime</th>\n",
       "      <th>bid</th>\n",
       "      <th>ask</th>\n",
       "      <th>currency_pair</th>\n",
       "      <th>volume</th>\n",
       "    </tr>\n",
       "  </thead>\n",
       "  <tbody>\n",
       "    <tr>\n",
       "      <th>0</th>\n",
       "      <td>2023-11-30 23:59:58</td>\n",
       "      <td>161.502</td>\n",
       "      <td>161.518</td>\n",
       "      <td>EURJPY</td>\n",
       "      <td>7948</td>\n",
       "    </tr>\n",
       "    <tr>\n",
       "      <th>1</th>\n",
       "      <td>2023-11-30 23:59:59</td>\n",
       "      <td>97.882</td>\n",
       "      <td>97.893</td>\n",
       "      <td>AUDJPY</td>\n",
       "      <td>5809</td>\n",
       "    </tr>\n",
       "    <tr>\n",
       "      <th>2</th>\n",
       "      <td>2023-12-01 00:00:00</td>\n",
       "      <td>161.502</td>\n",
       "      <td>161.515</td>\n",
       "      <td>EURJPY</td>\n",
       "      <td>1098</td>\n",
       "    </tr>\n",
       "    <tr>\n",
       "      <th>3</th>\n",
       "      <td>2023-12-01 00:00:00</td>\n",
       "      <td>148.078</td>\n",
       "      <td>148.084</td>\n",
       "      <td>USDJPY</td>\n",
       "      <td>314</td>\n",
       "    </tr>\n",
       "    <tr>\n",
       "      <th>4</th>\n",
       "      <td>2023-12-01 00:00:01</td>\n",
       "      <td>161.498</td>\n",
       "      <td>161.516</td>\n",
       "      <td>EURJPY</td>\n",
       "      <td>9823</td>\n",
       "    </tr>\n",
       "  </tbody>\n",
       "</table>\n",
       "</div>"
      ]
     },
     "metadata": {},
     "output_type": "display_data"
    },
    {
     "data": {
      "text/plain": [
       "              datetime      bid      ask currency_pair  volume\n",
       "0  2023-11-30 23:59:58  161.464  161.602        EURJPY      65\n",
       "1  2023-11-30 23:59:59   99.371   97.977        AUDJPY    8562\n",
       "2  2023-12-01 00:00:00  161.464  161.599        EURJPY    8795\n",
       "3  2023-12-01 00:00:00  148.040  148.168        USDJPY    8289\n",
       "4  2023-12-01 00:00:01  162.994  161.600        EURJPY    6764"
      ],
      "text/html": [
       "<div>\n",
       "<style scoped>\n",
       "    .dataframe tbody tr th:only-of-type {\n",
       "        vertical-align: middle;\n",
       "    }\n",
       "\n",
       "    .dataframe tbody tr th {\n",
       "        vertical-align: top;\n",
       "    }\n",
       "\n",
       "    .dataframe thead th {\n",
       "        text-align: right;\n",
       "    }\n",
       "</style>\n",
       "<table border=\"1\" class=\"dataframe\">\n",
       "  <thead>\n",
       "    <tr style=\"text-align: right;\">\n",
       "      <th></th>\n",
       "      <th>datetime</th>\n",
       "      <th>bid</th>\n",
       "      <th>ask</th>\n",
       "      <th>currency_pair</th>\n",
       "      <th>volume</th>\n",
       "    </tr>\n",
       "  </thead>\n",
       "  <tbody>\n",
       "    <tr>\n",
       "      <th>0</th>\n",
       "      <td>2023-11-30 23:59:58</td>\n",
       "      <td>161.464</td>\n",
       "      <td>161.602</td>\n",
       "      <td>EURJPY</td>\n",
       "      <td>65</td>\n",
       "    </tr>\n",
       "    <tr>\n",
       "      <th>1</th>\n",
       "      <td>2023-11-30 23:59:59</td>\n",
       "      <td>99.371</td>\n",
       "      <td>97.977</td>\n",
       "      <td>AUDJPY</td>\n",
       "      <td>8562</td>\n",
       "    </tr>\n",
       "    <tr>\n",
       "      <th>2</th>\n",
       "      <td>2023-12-01 00:00:00</td>\n",
       "      <td>161.464</td>\n",
       "      <td>161.599</td>\n",
       "      <td>EURJPY</td>\n",
       "      <td>8795</td>\n",
       "    </tr>\n",
       "    <tr>\n",
       "      <th>3</th>\n",
       "      <td>2023-12-01 00:00:00</td>\n",
       "      <td>148.040</td>\n",
       "      <td>148.168</td>\n",
       "      <td>USDJPY</td>\n",
       "      <td>8289</td>\n",
       "    </tr>\n",
       "    <tr>\n",
       "      <th>4</th>\n",
       "      <td>2023-12-01 00:00:01</td>\n",
       "      <td>162.994</td>\n",
       "      <td>161.600</td>\n",
       "      <td>EURJPY</td>\n",
       "      <td>6764</td>\n",
       "    </tr>\n",
       "  </tbody>\n",
       "</table>\n",
       "</div>"
      ]
     },
     "metadata": {},
     "output_type": "display_data"
    },
    {
     "data": {
      "text/plain": [
       "              datetime      bid      ask currency_pair  volume\n",
       "0  2023-12-01 00:00:00  161.492  161.521        EURJPY    1098\n",
       "1  2023-12-01 00:00:00  148.068  148.090        USDJPY     314\n",
       "2  2023-12-01 00:00:01  161.488  161.522        EURJPY    9823\n",
       "3  2023-12-01 00:00:02  161.488  161.521        EURJPY    7033\n",
       "4  2023-12-01 00:00:02  148.064  148.086        USDJPY    4222"
      ],
      "text/html": [
       "<div>\n",
       "<style scoped>\n",
       "    .dataframe tbody tr th:only-of-type {\n",
       "        vertical-align: middle;\n",
       "    }\n",
       "\n",
       "    .dataframe tbody tr th {\n",
       "        vertical-align: top;\n",
       "    }\n",
       "\n",
       "    .dataframe thead th {\n",
       "        text-align: right;\n",
       "    }\n",
       "</style>\n",
       "<table border=\"1\" class=\"dataframe\">\n",
       "  <thead>\n",
       "    <tr style=\"text-align: right;\">\n",
       "      <th></th>\n",
       "      <th>datetime</th>\n",
       "      <th>bid</th>\n",
       "      <th>ask</th>\n",
       "      <th>currency_pair</th>\n",
       "      <th>volume</th>\n",
       "    </tr>\n",
       "  </thead>\n",
       "  <tbody>\n",
       "    <tr>\n",
       "      <th>0</th>\n",
       "      <td>2023-12-01 00:00:00</td>\n",
       "      <td>161.492</td>\n",
       "      <td>161.521</td>\n",
       "      <td>EURJPY</td>\n",
       "      <td>1098</td>\n",
       "    </tr>\n",
       "    <tr>\n",
       "      <th>1</th>\n",
       "      <td>2023-12-01 00:00:00</td>\n",
       "      <td>148.068</td>\n",
       "      <td>148.090</td>\n",
       "      <td>USDJPY</td>\n",
       "      <td>314</td>\n",
       "    </tr>\n",
       "    <tr>\n",
       "      <th>2</th>\n",
       "      <td>2023-12-01 00:00:01</td>\n",
       "      <td>161.488</td>\n",
       "      <td>161.522</td>\n",
       "      <td>EURJPY</td>\n",
       "      <td>9823</td>\n",
       "    </tr>\n",
       "    <tr>\n",
       "      <th>3</th>\n",
       "      <td>2023-12-01 00:00:02</td>\n",
       "      <td>161.488</td>\n",
       "      <td>161.521</td>\n",
       "      <td>EURJPY</td>\n",
       "      <td>7033</td>\n",
       "    </tr>\n",
       "    <tr>\n",
       "      <th>4</th>\n",
       "      <td>2023-12-01 00:00:02</td>\n",
       "      <td>148.064</td>\n",
       "      <td>148.086</td>\n",
       "      <td>USDJPY</td>\n",
       "      <td>4222</td>\n",
       "    </tr>\n",
       "  </tbody>\n",
       "</table>\n",
       "</div>"
      ]
     },
     "metadata": {},
     "output_type": "display_data"
    },
    {
     "name": "stdout",
     "output_type": "stream",
     "text": [
      "Data A missing values:\n",
      " datetime         0\n",
      "bid              0\n",
      "ask              0\n",
      "currency_pair    0\n",
      "volume           0\n",
      "dtype: int64\n",
      "Data B missing values:\n",
      " datetime             0\n",
      "bid               5092\n",
      "ask              51364\n",
      "currency_pair        0\n",
      "volume               0\n",
      "dtype: int64\n",
      "Data C missing values:\n",
      " datetime         0\n",
      "bid              0\n",
      "ask              0\n",
      "currency_pair    0\n",
      "volume           0\n",
      "dtype: int64\n",
      "Data A length: 6847154\n",
      "Data B length: 6847154\n",
      "Data C length: 4689657\n",
      "Data A description:\n",
      "                 bid           ask        volume\n",
      "count  6.847154e+06  6.847154e+06  6.847154e+06\n",
      "mean   1.373710e+02  1.373810e+02  5.000257e+03\n",
      "std    2.602497e+01  2.602510e+01  2.886028e+03\n",
      "min    9.375900e+01  9.378500e+01  1.000000e+00\n",
      "25%    9.794900e+01  9.795900e+01  2.501000e+03\n",
      "50%    1.479940e+02  1.480010e+02  5.000000e+03\n",
      "75%    1.582430e+02  1.582570e+02  7.499000e+03\n",
      "max    1.637160e+02  1.637220e+02  9.999000e+03\n",
      "Data B description:\n",
      "                 bid           ask        volume\n",
      "count  6.842062e+06  6.795790e+06  6.847154e+06\n",
      "mean   1.375648e+02  1.374144e+02  5.000270e+03\n",
      "std    2.603082e+01  2.602596e+01  2.886557e+03\n",
      "min    9.373400e+01  9.273800e+01  1.000000e+00\n",
      "25%    9.847900e+01  9.800600e+01  2.499000e+03\n",
      "50%    1.480910e+02  1.480590e+02  5.000000e+03\n",
      "75%    1.584380e+02  1.582620e+02  7.500000e+03\n",
      "max    1.654380e+02  1.638060e+02  9.999000e+03\n",
      "Data C description:\n",
      "                 bid           ask        volume\n",
      "count  4.689657e+06  4.689657e+06  4.689657e+06\n",
      "mean   1.374518e+02  1.374778e+02  4.999944e+03\n",
      "std    2.603005e+01  2.603014e+01  2.885631e+03\n",
      "min    9.374900e+01  9.379100e+01  1.000000e+00\n",
      "25%    9.798900e+01  9.801400e+01  2.501000e+03\n",
      "50%    1.480990e+02  1.481230e+02  5.000000e+03\n",
      "75%    1.582340e+02  1.582640e+02  7.498000e+03\n",
      "max    1.637060e+02  1.637280e+02  9.999000e+03\n"
     ]
    }
   ],
   "execution_count": 5
  },
  {
   "cell_type": "code",
   "source": [
    "# Visualization for better understanding\n",
    "sns.pairplot(data_a)\n",
    "plt.suptitle('Data A Visualization', y=1.02)\n",
    "plt.show()\n",
    "\n"
   ],
   "metadata": {
    "collapsed": false,
    "jupyter": {
     "is_executing": true
    },
    "ExecuteTime": {
     "start_time": "2024-08-04T11:08:11.383670Z"
    }
   },
   "id": "c9f27d6aba00cc1a",
   "outputs": [],
   "execution_count": null
  },
  {
   "cell_type": "code",
   "outputs": [],
   "source": [
    "sns.pairplot(data_b)\n",
    "plt.suptitle('Data B Visualization', y=1.02)\n",
    "plt.show()"
   ],
   "metadata": {
    "collapsed": false
   },
   "id": "2c32ca11a891e76d",
   "execution_count": null
  },
  {
   "cell_type": "code",
   "outputs": [],
   "source": [
    "sns.pairplot(data_c)\n",
    "plt.suptitle('Data C Visualization', y=1.02)\n",
    "plt.show()\n"
   ],
   "metadata": {
    "collapsed": false
   },
   "id": "b047f29d040ad079",
   "execution_count": null
  },
  {
   "cell_type": "code",
   "outputs": [],
   "source": [
    "# Conclusion: Choose the best data provider\n",
    "# Based on the analysis, let's assume data provider B is the best\n",
    "chosen_data_provider = 'B'\n",
    "print(f\"Chosen data provider: {chosen_data_provider}\")"
   ],
   "metadata": {
    "collapsed": false
   },
   "id": "aef2c4961841b847",
   "execution_count": null
  },
  {
   "cell_type": "code",
   "outputs": [],
   "source": [],
   "metadata": {
    "collapsed": false
   },
   "id": "7af2771920dc21df",
   "execution_count": null
  }
 ],
 "metadata": {
  "kernelspec": {
   "display_name": "Python 3",
   "language": "python",
   "name": "python3"
  },
  "language_info": {
   "codemirror_mode": {
    "name": "ipython",
    "version": 2
   },
   "file_extension": ".py",
   "mimetype": "text/x-python",
   "name": "python",
   "nbconvert_exporter": "python",
   "pygments_lexer": "ipython2",
   "version": "2.7.6"
  }
 },
 "nbformat": 4,
 "nbformat_minor": 5
}
