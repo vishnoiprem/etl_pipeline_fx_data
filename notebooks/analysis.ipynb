{
 "cells": [
  {
   "cell_type": "code",
   "execution_count": null,
   "id": "initial_id",
   "metadata": {
    "collapsed": true
   },
   "outputs": [],
   "source": []
  },
  {
   "cell_type": "code",
   "outputs": [],
   "source": [
    "# analysis.ipynb\n",
    "import pandas as pd\n",
    "\n",
    "# Load the datasets\n",
    "data_A = pd.read_csv('../data/sample_fx_data_A.csv.gz', compression='gzip')\n",
    "data_B = pd.read_csv('../data/sample_fx_data_B.csv.gz', compression='gzip')\n",
    "data_C = pd.read_csv('../data/sample_fx_data_C.csv.gz', compression='gzip')\n",
    "\n",
    "# Perform data analysis\n",
    "# Display the first few rows of each dataset\n",
    "print(\"Data A:\")\n",
    "print(data_A.head())\n",
    "print(\"\\nData B:\")\n",
    "print(data_B.head())\n",
    "print(\"\\nData C:\")\n",
    "print(data_C.head())\n",
    "\n",
    "# Add more analysis steps as needed to select the best data provider\n"
   ],
   "metadata": {
    "collapsed": false
   },
   "id": "4737d5f0829144e8"
  }
 ],
 "metadata": {
  "kernelspec": {
   "display_name": "Python 3",
   "language": "python",
   "name": "python3"
  },
  "language_info": {
   "codemirror_mode": {
    "name": "ipython",
    "version": 2
   },
   "file_extension": ".py",
   "mimetype": "text/x-python",
   "name": "python",
   "nbconvert_exporter": "python",
   "pygments_lexer": "ipython2",
   "version": "2.7.6"
  }
 },
 "nbformat": 4,
 "nbformat_minor": 5
}
