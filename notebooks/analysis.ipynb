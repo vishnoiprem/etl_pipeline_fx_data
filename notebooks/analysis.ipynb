{
 "cells": [
  {
   "cell_type": "code",
   "execution_count": null,
   "id": "initial_id",
   "metadata": {
    "collapsed": true
   },
   "outputs": [],
   "source": []
  },
  {
   "cell_type": "code",
   "outputs": [],
   "source": [
    "# analysis.ipynb\n",
    "import pandas as pd\n",
    "\n",
    "# Load the datasets\n",
    "data_A = pd.read_csv('../data/sample_fx_data_A.csv.gz', compression='gzip')\n",
    "data_B = pd.read_csv('../data/sample_fx_data_B.csv.gz', compression='gzip')\n",
    "data_C = pd.read_csv('../data/sample_fx_data_C.csv.gz', compression='gzip')\n",
    "\n",
    "\n",
    "\n",
    "# Perform data analysis\n",
    "# Display the first few rows of each dataset\n",
    "print(\"Data A:\")\n",
    "print(data_A.head())\n",
    "print(\"\\nData B:\")\n",
    "print(data_B.head())\n",
    "print(\"\\nData C:\")\n",
    "print(data_C.head())\n",
    "\n",
    "# Add more analysis steps as needed to select the best data provider\n",
    "\n",
    "\n"
   ],
   "metadata": {
    "collapsed": false,
    "is_executing": true
   },
   "id": "4737d5f0829144e8"
  },
  {
   "cell_type": "code",
   "outputs": [],
   "source": [
    "# Check for missing values\n",
    "print(\"Data A missing values:\\n\", data_a.isnull().sum())\n",
    "print(\"Data B missing values:\\n\", data_b.isnull().sum())\n",
    "print(\"Data C missing values:\\n\", data_c.isnull().sum())"
   ],
   "metadata": {
    "collapsed": false,
    "is_executing": true
   },
   "id": "1060bd62f9cd4afa"
  },
  {
   "cell_type": "code",
   "outputs": [],
   "source": [],
   "metadata": {
    "collapsed": false
   },
   "id": "b6033aca05b31486"
  },
  {
   "cell_type": "code",
   "outputs": [],
   "source": [
    "# Check for data length\n",
    "print(\"Data A length:\", len(data_a))\n",
    "print(\"Data B length:\", len(data_b))\n",
    "print(\"Data C length:\", len(data_c))\n"
   ],
   "metadata": {
    "collapsed": false
   },
   "id": "a9a0f55214606ef2"
  },
  {
   "cell_type": "code",
   "outputs": [],
   "source": [
    "\n",
    "# Display the first few rows of each dataset\n",
    "display(data_a.head())\n",
    "display(data_b.head())\n",
    "display(data_c.head())\n",
    "\n",
    "# Check for missing values\n",
    "print(\"Data A missing values:\\n\", data_a.isnull().sum())\n",
    "print(\"Data B missing values:\\n\", data_b.isnull().sum())\n",
    "print(\"Data C missing values:\\n\", data_c.isnull().sum())\n",
    "\n",
    "# Check for data length\n",
    "print(\"Data A length:\", len(data_a))\n",
    "print(\"Data B length:\", len(data_b))\n",
    "print(\"Data C length:\", len(data_c))\n",
    "\n",
    "# Check for data consistency and validity (e.g., numeric values for bid and ask)\n",
    "print(\"Data A description:\\n\", data_a.describe())\n",
    "print(\"Data B description:\\n\", data_b.describe())\n",
    "print(\"Data C description:\\n\", data_c.describe())\n",
    "\n"
   ],
   "metadata": {
    "collapsed": false
   },
   "id": "bc8d5165386b396f"
  },
  {
   "cell_type": "code",
   "outputs": [],
   "source": [
    "# Visualization for better understanding\n",
    "sns.pairplot(data_a)\n",
    "plt.suptitle('Data A Visualization', y=1.02)\n",
    "plt.show()\n",
    "\n"
   ],
   "metadata": {
    "collapsed": false
   },
   "id": "c9f27d6aba00cc1a"
  },
  {
   "cell_type": "code",
   "outputs": [],
   "source": [
    "sns.pairplot(data_b)\n",
    "plt.suptitle('Data B Visualization', y=1.02)\n",
    "plt.show()"
   ],
   "metadata": {
    "collapsed": false
   },
   "id": "2c32ca11a891e76d"
  },
  {
   "cell_type": "code",
   "outputs": [],
   "source": [
    "sns.pairplot(data_c)\n",
    "plt.suptitle('Data C Visualization', y=1.02)\n",
    "plt.show()\n"
   ],
   "metadata": {
    "collapsed": false
   },
   "id": "b047f29d040ad079"
  },
  {
   "cell_type": "code",
   "outputs": [],
   "source": [
    "# Conclusion: Choose the best data provider\n",
    "# Based on the analysis, let's assume data provider B is the best\n",
    "chosen_data_provider = 'B'\n",
    "print(f\"Chosen data provider: {chosen_data_provider}\")"
   ],
   "metadata": {
    "collapsed": false
   },
   "id": "aef2c4961841b847"
  },
  {
   "cell_type": "code",
   "outputs": [],
   "source": [],
   "metadata": {
    "collapsed": false
   },
   "id": "7af2771920dc21df"
  }
 ],
 "metadata": {
  "kernelspec": {
   "display_name": "Python 3",
   "language": "python",
   "name": "python3"
  },
  "language_info": {
   "codemirror_mode": {
    "name": "ipython",
    "version": 2
   },
   "file_extension": ".py",
   "mimetype": "text/x-python",
   "name": "python",
   "nbconvert_exporter": "python",
   "pygments_lexer": "ipython2",
   "version": "2.7.6"
  }
 },
 "nbformat": 4,
 "nbformat_minor": 5
}
